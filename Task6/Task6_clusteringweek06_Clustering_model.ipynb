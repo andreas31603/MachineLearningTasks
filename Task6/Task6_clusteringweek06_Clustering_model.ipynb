{
  "nbformat": 4,
  "nbformat_minor": 0,
  "metadata": {
    "colab": {
      "provenance": [],
      "authorship_tag": "ABX9TyOa3BCfVjsuedtTzwLdlIS3",
      "include_colab_link": true
    },
    "kernelspec": {
      "name": "python3",
      "display_name": "Python 3"
    },
    "language_info": {
      "name": "python"
    }
  },
  "cells": [
    {
      "cell_type": "markdown",
      "metadata": {
        "id": "view-in-github",
        "colab_type": "text"
      },
      "source": [
        "<a href=\"https://colab.research.google.com/github/andreas31603/MechaineLearningTasks/blob/main/Task6/Task6_clusteringweek06_Clustering_model.ipynb\" target=\"_parent\"><img src=\"https://colab.research.google.com/assets/colab-badge.svg\" alt=\"Open In Colab\"/></a>"
      ]
    },
    {
      "cell_type": "code",
      "execution_count": 1,
      "metadata": {
        "colab": {
          "base_uri": "https://localhost:8080/"
        },
        "id": "i0LI_6ap18nS",
        "outputId": "14b5945c-edae-4cfd-b070-e46bd092977f"
      },
      "outputs": [
        {
          "output_type": "stream",
          "name": "stdout",
          "text": [
            "Requirement already satisfied: scikit-learn in /usr/local/lib/python3.10/dist-packages (1.5.2)\n",
            "Requirement already satisfied: yellowbrick in /usr/local/lib/python3.10/dist-packages (1.5)\n",
            "Requirement already satisfied: numpy>=1.19.5 in /usr/local/lib/python3.10/dist-packages (from scikit-learn) (1.26.4)\n",
            "Requirement already satisfied: scipy>=1.6.0 in /usr/local/lib/python3.10/dist-packages (from scikit-learn) (1.13.1)\n",
            "Requirement already satisfied: joblib>=1.2.0 in /usr/local/lib/python3.10/dist-packages (from scikit-learn) (1.4.2)\n",
            "Requirement already satisfied: threadpoolctl>=3.1.0 in /usr/local/lib/python3.10/dist-packages (from scikit-learn) (3.5.0)\n",
            "Requirement already satisfied: matplotlib!=3.0.0,>=2.0.2 in /usr/local/lib/python3.10/dist-packages (from yellowbrick) (3.8.0)\n",
            "Requirement already satisfied: cycler>=0.10.0 in /usr/local/lib/python3.10/dist-packages (from yellowbrick) (0.12.1)\n",
            "Requirement already satisfied: contourpy>=1.0.1 in /usr/local/lib/python3.10/dist-packages (from matplotlib!=3.0.0,>=2.0.2->yellowbrick) (1.3.0)\n",
            "Requirement already satisfied: fonttools>=4.22.0 in /usr/local/lib/python3.10/dist-packages (from matplotlib!=3.0.0,>=2.0.2->yellowbrick) (4.54.1)\n",
            "Requirement already satisfied: kiwisolver>=1.0.1 in /usr/local/lib/python3.10/dist-packages (from matplotlib!=3.0.0,>=2.0.2->yellowbrick) (1.4.7)\n",
            "Requirement already satisfied: packaging>=20.0 in /usr/local/lib/python3.10/dist-packages (from matplotlib!=3.0.0,>=2.0.2->yellowbrick) (24.2)\n",
            "Requirement already satisfied: pillow>=6.2.0 in /usr/local/lib/python3.10/dist-packages (from matplotlib!=3.0.0,>=2.0.2->yellowbrick) (11.0.0)\n",
            "Requirement already satisfied: pyparsing>=2.3.1 in /usr/local/lib/python3.10/dist-packages (from matplotlib!=3.0.0,>=2.0.2->yellowbrick) (3.2.0)\n",
            "Requirement already satisfied: python-dateutil>=2.7 in /usr/local/lib/python3.10/dist-packages (from matplotlib!=3.0.0,>=2.0.2->yellowbrick) (2.8.2)\n",
            "Requirement already satisfied: six>=1.5 in /usr/local/lib/python3.10/dist-packages (from python-dateutil>=2.7->matplotlib!=3.0.0,>=2.0.2->yellowbrick) (1.16.0)\n"
          ]
        }
      ],
      "source": [
        "!pip install scikit-learn yellowbrick"
      ]
    },
    {
      "cell_type": "code",
      "source": [
        "# Untuk mengabilkan dataset dari google drive\n",
        "from google.colab import drive\n",
        "drive.mount('/content/drive')"
      ],
      "metadata": {
        "colab": {
          "base_uri": "https://localhost:8080/"
        },
        "id": "9jDScby22fTx",
        "outputId": "73be6976-77c0-4298-f00e-281f44bbfeea"
      },
      "execution_count": 4,
      "outputs": [
        {
          "output_type": "stream",
          "name": "stdout",
          "text": [
            "Mounted at /content/drive\n"
          ]
        }
      ]
    },
    {
      "cell_type": "code",
      "source": [
        "import pandas as pd\n",
        "from sklearn.preprocessing import StandardScaler\n",
        "from sklearn.cluster import KMeans, DBSCAN, AgglomerativeClustering\n",
        "from sklearn.metrics import silhouette_score, calinski_harabasz_score, davies_bouldin_score\n",
        "import matplotlib.pyplot as plt"
      ],
      "metadata": {
        "id": "uk4esUg02WrE"
      },
      "execution_count": 2,
      "outputs": []
    },
    {
      "cell_type": "code",
      "source": [
        "# Muat dataset dengan membatasi pada 5000 baris pertama\n",
        "file_path = '/content/drive/MyDrive/Dataset/Online Retail.xlsx'\n",
        "df_new = pd.read_excel(file_path, usecols=['CustomerID', 'Quantity', 'UnitPrice'], nrows=5000)"
      ],
      "metadata": {
        "id": "QnkS8c562c1U"
      },
      "execution_count": 5,
      "outputs": []
    },
    {
      "cell_type": "code",
      "source": [
        "# Buang baris dengan nilai CustomerID yang hilang\n",
        "df_new = df_new.dropna(subset=['CustomerID'])"
      ],
      "metadata": {
        "id": "9W4zCpTg2shK"
      },
      "execution_count": 6,
      "outputs": []
    },
    {
      "cell_type": "code",
      "source": [
        "# Agregasikan data berdasarkan CustomerID untuk membangun fitur clustering\n",
        "df_customer = df_new.groupby('CustomerID').agg({\n",
        "    'Quantity': 'sum',         # Total kuantitas yang dibeli\n",
        "    'UnitPrice': 'mean'        # Rata-rata harga satuan\n",
        "}).reset_index()"
      ],
      "metadata": {
        "id": "98djS97c2uev"
      },
      "execution_count": 7,
      "outputs": []
    },
    {
      "cell_type": "code",
      "source": [
        "# Standarisasi fitur untuk memastikan semua berada pada skala yang sama\n",
        "scaler = StandardScaler()\n",
        "data_scaled = scaler.fit_transform(df_customer[['Quantity', 'UnitPrice']])"
      ],
      "metadata": {
        "id": "_RRAPEvZ2wXW"
      },
      "execution_count": 8,
      "outputs": []
    },
    {
      "cell_type": "code",
      "source": [
        "# Tentukan range cluster untuk KMeans dan hitung inertia untuk metode elbow\n",
        "k_range = range(2, 11)\n",
        "kmeans_inertia = []\n",
        "\n",
        "for k in k_range:\n",
        "    kmeans = KMeans(n_clusters=k, random_state=42)\n",
        "    kmeans.fit(data_scaled)\n",
        "    kmeans_inertia.append(kmeans.inertia_)"
      ],
      "metadata": {
        "id": "98CFxooy20uF"
      },
      "execution_count": 9,
      "outputs": []
    },
    {
      "cell_type": "code",
      "source": [
        "# Visualisasi metode elbow untuk menentukan jumlah cluster optimal pada KMeans\n",
        "plt.figure(figsize=(10, 6))\n",
        "plt.plot(k_range, kmeans_inertia, marker='o')\n",
        "plt.xlabel(\"Jumlah Cluster (k)\")\n",
        "plt.ylabel(\"Inertia\")\n",
        "plt.title(\"Metode Elbow untuk KMeans pada Data Customer\")\n",
        "plt.show()"
      ],
      "metadata": {
        "colab": {
          "base_uri": "https://localhost:8080/",
          "height": 564
        },
        "id": "JWI5SFND22mc",
        "outputId": "204a015a-d89b-47af-8e34-fc9ae47c875e"
      },
      "execution_count": 10,
      "outputs": [
        {
          "output_type": "display_data",
          "data": {
            "text/plain": [
              "<Figure size 1000x600 with 1 Axes>"
            ],
            "image/png": "[encoded data removed]"
          },
          "metadata": {}
        }
      ]
    },
    {
      "cell_type": "code",
      "source": [
        "# Pilih jumlah cluster optimal (misalnya k=4 berdasarkan elbow plot)\n",
        "optimal_k = 4"
      ],
      "metadata": {
        "id": "dg_BfjrI24kf"
      },
      "execution_count": 11,
      "outputs": []
    },
    {
      "cell_type": "code",
      "source": [
        "# Definisikan model clustering dengan parameter yang dipilih\n",
        "models = {\n",
        "    \"KMeans\": KMeans(n_clusters=optimal_k, random_state=42),\n",
        "    \"DBSCAN\": DBSCAN(eps=0.5, min_samples=5),\n",
        "    \"AgglomerativeClustering\": AgglomerativeClustering(n_clusters=optimal_k)\n",
        "}"
      ],
      "metadata": {
        "id": "kxWJl2rL26W9"
      },
      "execution_count": 12,
      "outputs": []
    },
    {
      "cell_type": "code",
      "source": [
        "# Fungsi untuk menghitung metrik evaluasi clustering\n",
        "def evaluate_clustering(labels, data):\n",
        "    silhouette_avg = silhouette_score(data, labels) if len(set(labels)) > 1 else None\n",
        "    ch_score = calinski_harabasz_score(data, labels) if len(set(labels)) > 1 else None\n",
        "    db_score = davies_bouldin_score(data, labels) if len(set(labels)) > 1 else None\n",
        "    return {\"Silhouette\": silhouette_avg, \"Calinski-Harabasz\": ch_score, \"Davies-Bouldin\": db_score}"
      ],
      "metadata": {
        "id": "H59d0gUF28PM"
      },
      "execution_count": 13,
      "outputs": []
    },
    {
      "cell_type": "code",
      "source": [
        "# Hitung metrik evaluasi untuk setiap model clustering\n",
        "evaluation_results = {}\n",
        "\n",
        "for model_name, model in models.items():\n",
        "    labels = model.fit_predict(data_scaled)\n",
        "    evaluation_results[model_name] = evaluate_clustering(labels, data_scaled)"
      ],
      "metadata": {
        "id": "7osUilHG2-M5"
      },
      "execution_count": 14,
      "outputs": []
    },
    {
      "cell_type": "code",
      "source": [
        "# Tampilkan hasil evaluasi untuk setiap model clustering\n",
        "evaluation_df = pd.DataFrame(evaluation_results).T\n",
        "print(evaluation_df)"
      ],
      "metadata": {
        "colab": {
          "base_uri": "https://localhost:8080/"
        },
        "id": "_k2PwpCE2-nl",
        "outputId": "5155dac0-37fd-400c-b2ed-fc3c781e309b"
      },
      "execution_count": 15,
      "outputs": [
        {
          "output_type": "stream",
          "name": "stdout",
          "text": [
            "                         Silhouette  Calinski-Harabasz  Davies-Bouldin\n",
            "KMeans                     0.901363         719.147359        0.142690\n",
            "DBSCAN                     0.905007          15.568190        3.070045\n",
            "AgglomerativeClustering    0.901363         719.147359        0.142690\n"
          ]
        }
      ]
    }
  ]
}